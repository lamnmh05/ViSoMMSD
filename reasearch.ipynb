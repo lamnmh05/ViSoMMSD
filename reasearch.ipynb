{
 "cells": [
  {
   "cell_type": "code",
   "execution_count": 6,
   "id": "5c418a28",
   "metadata": {},
   "outputs": [],
   "source": [
    "from google import genai\n",
    "import os\n",
    "from dotenv import load_dotenv, find_dotenv  # For loading .env file\n",
    "from loguru import logger  # Replaces logging\n"
   ]
  },
  {
   "cell_type": "code",
   "execution_count": 7,
   "id": "109b4fc7",
   "metadata": {},
   "outputs": [
    {
     "name": "stderr",
     "output_type": "stream",
     "text": [
      "\u001b[32m2025-05-24 19:34:56.701\u001b[0m | \u001b[1mINFO    \u001b[0m | \u001b[36m__main__\u001b[0m:\u001b[36m<module>\u001b[0m:\u001b[36m2\u001b[0m - \u001b[1mSuccessfully loaded environment variables from .env file.\u001b[0m\n"
     ]
    }
   ],
   "source": [
    "if load_dotenv(find_dotenv()):\n",
    "    logger.info(\"Successfully loaded environment variables from .env file.\")\n",
    "else:\n",
    "    logger.warning(\"Could not find .env file. Attempting to use environment variables directly.\")"
   ]
  },
  {
   "cell_type": "code",
   "execution_count": 8,
   "id": "64e93753",
   "metadata": {},
   "outputs": [],
   "source": [
    "key = os.getenv('API_KEY')"
   ]
  },
  {
   "cell_type": "code",
   "execution_count": 9,
   "id": "3fad9016",
   "metadata": {},
   "outputs": [
    {
     "name": "stdout",
     "output_type": "stream",
     "text": [
      "models/embedding-gecko-001\n",
      "models/gemini-1.0-pro-vision-latest\n",
      "models/gemini-pro-vision\n",
      "models/gemini-1.5-pro-latest\n",
      "models/gemini-1.5-pro-001\n",
      "models/gemini-1.5-pro-002\n",
      "models/gemini-1.5-pro\n",
      "models/gemini-1.5-flash-latest\n",
      "models/gemini-1.5-flash-001\n",
      "models/gemini-1.5-flash-001-tuning\n",
      "models/gemini-1.5-flash\n",
      "models/gemini-1.5-flash-002\n",
      "models/gemini-1.5-flash-8b\n",
      "models/gemini-1.5-flash-8b-001\n",
      "models/gemini-1.5-flash-8b-latest\n",
      "models/gemini-1.5-flash-8b-exp-0827\n",
      "models/gemini-1.5-flash-8b-exp-0924\n",
      "models/gemini-2.5-pro-exp-03-25\n",
      "models/gemini-2.5-pro-preview-03-25\n",
      "models/gemini-2.5-flash-preview-04-17\n",
      "models/gemini-2.5-flash-preview-05-20\n",
      "models/gemini-2.5-flash-preview-04-17-thinking\n",
      "models/gemini-2.5-pro-preview-05-06\n",
      "models/gemini-2.0-flash-exp\n",
      "models/gemini-2.0-flash\n",
      "models/gemini-2.0-flash-001\n",
      "models/gemini-2.0-flash-exp-image-generation\n",
      "models/gemini-2.0-flash-lite-001\n",
      "models/gemini-2.0-flash-lite\n",
      "models/gemini-2.0-flash-preview-image-generation\n",
      "models/gemini-2.0-flash-lite-preview-02-05\n",
      "models/gemini-2.0-flash-lite-preview\n",
      "models/gemini-2.0-pro-exp\n",
      "models/gemini-2.0-pro-exp-02-05\n",
      "models/gemini-exp-1206\n",
      "models/gemini-2.0-flash-thinking-exp-01-21\n",
      "models/gemini-2.0-flash-thinking-exp\n",
      "models/gemini-2.0-flash-thinking-exp-1219\n",
      "models/gemini-2.5-flash-preview-tts\n",
      "models/gemini-2.5-pro-preview-tts\n",
      "models/learnlm-2.0-flash-experimental\n",
      "models/gemma-3-1b-it\n",
      "models/gemma-3-4b-it\n",
      "models/gemma-3-12b-it\n",
      "models/gemma-3-27b-it\n",
      "models/gemma-3n-e4b-it\n",
      "models/embedding-001\n",
      "models/text-embedding-004\n",
      "models/gemini-embedding-exp-03-07\n",
      "models/gemini-embedding-exp\n",
      "models/aqa\n",
      "models/imagen-3.0-generate-002\n",
      "models/veo-2.0-generate-001\n",
      "models/gemini-2.5-flash-preview-native-audio-dialog\n",
      "models/gemini-2.5-flash-exp-native-audio-thinking-dialog\n",
      "models/gemini-2.0-flash-live-001\n"
     ]
    }
   ],
   "source": [
    "client = genai.Client(api_key=key)\n",
    "\n",
    "for model in client.models.list():\n",
    "    print(model.name)"
   ]
  },
  {
   "cell_type": "code",
   "execution_count": 12,
   "id": "9d184160",
   "metadata": {},
   "outputs": [],
   "source": [
    "\n",
    "for model in client.models.list(config={'query_base': False}):\n",
    "    print(model)"
   ]
  },
  {
   "cell_type": "code",
   "execution_count": 23,
   "id": "56b7c853",
   "metadata": {},
   "outputs": [
    {
     "name": "stdout",
     "output_type": "stream",
     "text": [
      "base_model=None create_time=None update_time=None\n",
      "base_model=None create_time=None update_time=None\n",
      "base_model=None create_time=None update_time=None\n",
      "base_model=None create_time=None update_time=None\n",
      "base_model=None create_time=None update_time=None\n",
      "base_model=None create_time=None update_time=None\n",
      "base_model=None create_time=None update_time=None\n",
      "base_model=None create_time=None update_time=None\n",
      "base_model=None create_time=None update_time=None\n",
      "base_model=None create_time=None update_time=None\n",
      "base_model=None create_time=None update_time=None\n",
      "base_model=None create_time=None update_time=None\n",
      "base_model=None create_time=None update_time=None\n",
      "base_model=None create_time=None update_time=None\n",
      "base_model=None create_time=None update_time=None\n",
      "base_model=None create_time=None update_time=None\n",
      "base_model=None create_time=None update_time=None\n",
      "base_model=None create_time=None update_time=None\n",
      "base_model=None create_time=None update_time=None\n",
      "base_model=None create_time=None update_time=None\n",
      "base_model=None create_time=None update_time=None\n",
      "base_model=None create_time=None update_time=None\n",
      "base_model=None create_time=None update_time=None\n",
      "base_model=None create_time=None update_time=None\n",
      "base_model=None create_time=None update_time=None\n",
      "base_model=None create_time=None update_time=None\n",
      "base_model=None create_time=None update_time=None\n",
      "base_model=None create_time=None update_time=None\n",
      "base_model=None create_time=None update_time=None\n",
      "base_model=None create_time=None update_time=None\n",
      "base_model=None create_time=None update_time=None\n",
      "base_model=None create_time=None update_time=None\n",
      "base_model=None create_time=None update_time=None\n",
      "base_model=None create_time=None update_time=None\n",
      "base_model=None create_time=None update_time=None\n",
      "base_model=None create_time=None update_time=None\n",
      "base_model=None create_time=None update_time=None\n",
      "base_model=None create_time=None update_time=None\n",
      "base_model=None create_time=None update_time=None\n",
      "base_model=None create_time=None update_time=None\n",
      "base_model=None create_time=None update_time=None\n",
      "base_model=None create_time=None update_time=None\n",
      "base_model=None create_time=None update_time=None\n",
      "base_model=None create_time=None update_time=None\n",
      "base_model=None create_time=None update_time=None\n",
      "base_model=None create_time=None update_time=None\n",
      "base_model=None create_time=None update_time=None\n",
      "base_model=None create_time=None update_time=None\n",
      "base_model=None create_time=None update_time=None\n",
      "base_model=None create_time=None update_time=None\n",
      "base_model=None create_time=None update_time=None\n",
      "base_model=None create_time=None update_time=None\n",
      "base_model=None create_time=None update_time=None\n",
      "base_model=None create_time=None update_time=None\n",
      "base_model=None create_time=None update_time=None\n",
      "base_model=None create_time=None update_time=None\n"
     ]
    }
   ],
   "source": [
    "for model in client.models.list():\n",
    "    print(model.tuned_model_info)\n"
   ]
  }
 ],
 "metadata": {
  "kernelspec": {
   "display_name": "ds108",
   "language": "python",
   "name": "python3"
  },
  "language_info": {
   "codemirror_mode": {
    "name": "ipython",
    "version": 3
   },
   "file_extension": ".py",
   "mimetype": "text/x-python",
   "name": "python",
   "nbconvert_exporter": "python",
   "pygments_lexer": "ipython3",
   "version": "3.10.16"
  }
 },
 "nbformat": 4,
 "nbformat_minor": 5
}
