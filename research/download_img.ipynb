{
 "cells": [
  {
   "cell_type": "code",
   "execution_count": 5,
   "id": "6c3d3fa4",
   "metadata": {},
   "outputs": [],
   "source": [
    "import os\n",
    "import json\n",
    "import requests"
   ]
  },
  {
   "cell_type": "code",
   "execution_count": null,
   "id": "e359a615",
   "metadata": {},
   "outputs": [],
   "source": [
    "\n",
    "data = json.load(open('data4.json', 'r', encoding= 'utf-8'))"
   ]
  },
  {
   "cell_type": "code",
   "execution_count": 4,
   "id": "de8b50be",
   "metadata": {},
   "outputs": [
    {
     "data": {
      "text/plain": [
       "1039"
      ]
     },
     "execution_count": 4,
     "metadata": {},
     "output_type": "execute_result"
    }
   ],
   "source": [
    "len(data)"
   ]
  },
  {
   "cell_type": "code",
   "execution_count": 6,
   "id": "3f8cded6",
   "metadata": {},
   "outputs": [
    {
     "name": "stdout",
     "output_type": "stream",
     "text": [
      "Xong rồi! ✅ File ảnh lưu trong thư mục downloaded_images, file JSON là output.json\n"
     ]
    }
   ],
   "source": [
    "os.makedirs(\"downloaded_images\", exist_ok=True)\n",
    "output_data = []\n",
    "\n",
    "for idx, item in enumerate(data, 9161):\n",
    "    image_url = item[\"image\"]\n",
    "    caption = item[\"caption\"]\n",
    "\n",
    "    # Đặt tên file (ví dụ: image_0.jpg)\n",
    "    file_name = f\"fb_{idx}.jpg\"\n",
    "    file_path = os.path.join(\"downloaded_images\", file_name)\n",
    "\n",
    "    # Tải ảnh\n",
    "    response = requests.get(image_url)\n",
    "    with open(file_path, \"wb\") as f:\n",
    "        f.write(response.content)\n",
    "\n",
    "    # Ghi dữ liệu mới\n",
    "    output_data.append({\n",
    "        \"caption\": caption,\n",
    "        \"image\": file_name\n",
    "    })\n",
    "\n",
    "# Bước 4: Lưu file JSON mới\n",
    "with open(\"output.json\", \"w\", encoding=\"utf-8\") as f:\n",
    "    json.dump(output_data, f, ensure_ascii=False, indent=4)\n",
    "\n",
    "print(\"Xong rồi! ✅ File ảnh lưu trong thư mục downloaded_images, file JSON là output.json\")"
   ]
  },
  {
   "cell_type": "code",
   "execution_count": null,
   "id": "df97531d",
   "metadata": {},
   "outputs": [],
   "source": [
    "input_json = \"full_data.json\"\n",
    "output_folder = \"downloaded_images\"\n",
    "\n",
    "os.makedirs(output_folder, exist_ok=True)\n",
    "\n",
    "with open(input_json, \"r\", encoding=\"utf-8\") as f:\n",
    "    data = json.load(f)\n",
    "\n",
    "for ith, each in enumerate(data):\n",
    "    img_url = each['image']\n",
    "    print(img_url)\n",
    "    img_name = f\"fb_{ith}.jpg\"\n",
    "    img_path = os.path.join(output_folder, img_name)\n",
    "\n",
    "    try:\n",
    "        response = requests.get(img_url, timeout=10)\n",
    "        if response.status_code == 200:\n",
    "            with open(img_path, \"wb\") as f:\n",
    "                f.write(response.content)\n",
    "            print(f\"Tải thành công: {img_name}\")\n",
    "        else:\n",
    "            print(f\"Lỗi ({response.status_code}) khi tải: {img_url}\")\n",
    "    except Exception as e:\n",
    "        print(f\"Lỗi khi tải ảnh {img_url}: {e}\")\n"
   ]
  }
 ],
 "metadata": {
  "kernelspec": {
   "display_name": "base",
   "language": "python",
   "name": "python3"
  },
  "language_info": {
   "codemirror_mode": {
    "name": "ipython",
    "version": 3
   },
   "file_extension": ".py",
   "mimetype": "text/x-python",
   "name": "python",
   "nbconvert_exporter": "python",
   "pygments_lexer": "ipython3",
   "version": "3.12.3"
  }
 },
 "nbformat": 4,
 "nbformat_minor": 5
}
