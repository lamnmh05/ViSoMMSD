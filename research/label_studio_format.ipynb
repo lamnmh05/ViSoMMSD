{
 "cells": [
  {
   "cell_type": "code",
   "execution_count": 10,
   "id": "634c5fd0",
   "metadata": {},
   "outputs": [],
   "source": [
    "import json\n",
    "import os\n",
    "import requests\n",
    "import re"
   ]
  },
  {
   "cell_type": "code",
   "execution_count": 21,
   "id": "e202a483",
   "metadata": {},
   "outputs": [],
   "source": [
    "file_path = 'round_4.json'"
   ]
  },
  {
   "cell_type": "code",
   "execution_count": 22,
   "id": "c8e551f2",
   "metadata": {},
   "outputs": [],
   "source": [
    "data = json.load(open(file_path, 'r', encoding='utf-8'))"
   ]
  },
  {
   "cell_type": "code",
   "execution_count": 23,
   "id": "16d21b8e",
   "metadata": {},
   "outputs": [],
   "source": [
    "def extract_number(filename):\n",
    "    # Lấy số trong tên file kiểu fb_xxx.jpg, nếu không có trả về số rất lớn để đứng cuối cùng\n",
    "    match = re.search(r'fb_(\\d+)\\.jpg', filename)\n",
    "    if match:\n",
    "        return int(match.group(1))\n",
    "    return float('inf')"
   ]
  },
  {
   "cell_type": "code",
   "execution_count": 24,
   "id": "d00a7471",
   "metadata": {},
   "outputs": [
    {
     "data": {
      "text/plain": [
       "{'caption': 'Mày! - Trần Bơm #Vietnameseconcert', 'image': 'fb_4032.jpg'}"
      ]
     },
     "execution_count": 24,
     "metadata": {},
     "output_type": "execute_result"
    }
   ],
   "source": [
    "data[0]"
   ]
  },
  {
   "cell_type": "code",
   "execution_count": 25,
   "id": "b3e4a0cc",
   "metadata": {},
   "outputs": [
    {
     "data": {
      "text/plain": [
       "4032"
      ]
     },
     "execution_count": 25,
     "metadata": {},
     "output_type": "execute_result"
    }
   ],
   "source": [
    "extract_number(data[0]['image'])"
   ]
  },
  {
   "cell_type": "code",
   "execution_count": 26,
   "id": "f565be2f",
   "metadata": {},
   "outputs": [],
   "source": [
    "for dict_ in data:\n",
    "  ith = extract_number(dict_['image'])\n",
    "  dict_['image'] = f'https://storage.googleapis.com/sarcasm_detection_data/images/fb_{ith}.jpg'"
   ]
  },
  {
   "cell_type": "code",
   "execution_count": 27,
   "id": "0aff5a4a",
   "metadata": {},
   "outputs": [],
   "source": [
    "with open('label_studio_round_4.json', 'w', encoding='utf-8') as f:\n",
    "    json.dump(data, f, ensure_ascii=False, indent=2)"
   ]
  }
 ],
 "metadata": {
  "kernelspec": {
   "display_name": "base",
   "language": "python",
   "name": "python3"
  },
  "language_info": {
   "codemirror_mode": {
    "name": "ipython",
    "version": 3
   },
   "file_extension": ".py",
   "mimetype": "text/x-python",
   "name": "python",
   "nbconvert_exporter": "python",
   "pygments_lexer": "ipython3",
   "version": "3.12.3"
  }
 },
 "nbformat": 4,
 "nbformat_minor": 5
}
