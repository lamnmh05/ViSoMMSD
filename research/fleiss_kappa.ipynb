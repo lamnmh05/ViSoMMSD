{
 "cells": [
  {
   "cell_type": "code",
   "execution_count": 6,
   "id": "753a898e",
   "metadata": {},
   "outputs": [],
   "source": [
    "import json\n",
    "import os\n",
    "import numpy as np\n",
    "import matplotlib.pyplot as plt"
   ]
  },
  {
   "cell_type": "code",
   "execution_count": 7,
   "id": "070a157f",
   "metadata": {},
   "outputs": [],
   "source": [
    "def convert_multiple_annotations_to_matrices(samples):\n",
    "    \"\"\"\n",
    "    Chuyển danh sách các sample JSON thành ma trận đếm cho từng modality.\n",
    "\n",
    "    Args:\n",
    "        samples (list): Danh sách JSON mỗi sample\n",
    "\n",
    "    Returns:\n",
    "        tuple: (matrix_text, matrix_image, matrix_multi)\n",
    "    \"\"\"\n",
    "    matrix_text = []\n",
    "    matrix_image = []\n",
    "    matrix_multi = []\n",
    "\n",
    "    for sample in samples:\n",
    "        # Đếm số nhãn cho từng modality\n",
    "        counts = {\n",
    "            \"text_modality\": [0, 0],\n",
    "            \"image_modality\": [0, 0],\n",
    "            \"multi_modality\": [0, 0]\n",
    "        }\n",
    "\n",
    "        for annot in sample['annotations']:\n",
    "            for result in annot['result']:\n",
    "                modality = result['from_name']\n",
    "                label = result['value']['choices'][0]\n",
    "                if label == \"Non-sarcasm\":\n",
    "                    counts[modality][0] += 1\n",
    "                elif label == \"Sarcasm\":\n",
    "                    counts[modality][1] += 1\n",
    "                else:\n",
    "                    raise ValueError(f\"Unknown label: {label}\")\n",
    "\n",
    "        matrix_text.append(counts[\"text_modality\"])\n",
    "        matrix_image.append(counts[\"image_modality\"])\n",
    "        matrix_multi.append(counts[\"multi_modality\"])\n",
    "\n",
    "    return matrix_text, matrix_image, matrix_multi\n",
    "\n",
    "def fleiss_kappa(matrix):\n",
    "    \"\"\"\n",
    "    Tính Fleiss' Kappa cho ma trận đánh giá (n_samples x n_classes).\n",
    "\n",
    "    Args:\n",
    "        matrix (list of lists): ma trận đếm số annotator chọn mỗi class\n",
    "\n",
    "    Returns:\n",
    "        float: Giá trị Fleiss' Kappa.\n",
    "    \"\"\"\n",
    "    matrix = np.array(matrix)  # 🔧 Convert list -> numpy array\n",
    "    N, k = matrix.shape        # Số mẫu, số lớp\n",
    "    n_annotators = 3\n",
    "\n",
    "    # Tính tần suất mỗi nhãn trên toàn tập\n",
    "    p_j = np.sum(matrix, axis=0) / (N * n_annotators)\n",
    "\n",
    "    # Tính xác suất đồng thuận trên mỗi sample\n",
    "    P_i = (np.sum(matrix**2, axis=1) - n_annotators) / (n_annotators * (n_annotators - 1))\n",
    "\n",
    "    P_bar = np.mean(P_i)\n",
    "    P_e = np.sum(p_j**2)\n",
    "\n",
    "    kappa = (P_bar - P_e) / (1 - P_e)\n",
    "    return kappa\n"
   ]
  },
  {
   "cell_type": "code",
   "execution_count": 8,
   "id": "7f5b142f",
   "metadata": {},
   "outputs": [],
   "source": [
    "file_path = r'D:\\Git_repo\\ViSoMMSD\\data\\interim\\round_2\\export\\round_2_conflict.json'\n",
    "with open(file_path, 'r', encoding= 'utf-8') as f:\n",
    "  data = json.load(f)\n",
    "\n",
    "text, image, multi = convert_multiple_annotations_to_matrices(data)"
   ]
  },
  {
   "cell_type": "code",
   "execution_count": 9,
   "id": "4f3c84ae",
   "metadata": {},
   "outputs": [
    {
     "data": {
      "image/png": "[encoded data removed]",
      "text/plain": [
       "<Figure size 600x400 with 1 Axes>"
      ]
     },
     "metadata": {},
     "output_type": "display_data"
    }
   ],
   "source": [
    "# Tính kappa cho từng modality\n",
    "kappa_text = fleiss_kappa(text)\n",
    "kappa_image = fleiss_kappa(image)\n",
    "kappa_multi = fleiss_kappa(multi)\n",
    "\n",
    "# Gán nhãn và giá trị\n",
    "modalities = [\"Text\", \"Image\", \"Multimodal\"]\n",
    "kappas = [kappa_text, kappa_image, kappa_multi]\n",
    "\n",
    "# Vẽ biểu đồ\n",
    "fig, ax = plt.subplots(figsize=(6, 4))\n",
    "bars = ax.bar(modalities, kappas, color=[\"#4c72b0\", \"#55a868\", \"#c44e52\"])\n",
    "ax.set_ylim(0, 1)\n",
    "ax.set_ylabel(\"Fleiss-Kappa Score\")\n",
    "ax.set_title(\"Fleiss-Kappa by Modality\")\n",
    "\n",
    "# Hiển thị giá trị trên đỉnh cột\n",
    "for bar in bars:\n",
    "    height = bar.get_height()\n",
    "    ax.annotate(f'{height:.2f}',\n",
    "                xy=(bar.get_x() + bar.get_width() / 2, height),\n",
    "                xytext=(0, 3),  # khoảng cách từ đỉnh cột\n",
    "                textcoords=\"offset points\",\n",
    "                ha='center', va='bottom')\n",
    "\n",
    "plt.tight_layout()\n",
    "plt.show()\n"
   ]
  }
 ],
 "metadata": {
  "kernelspec": {
   "display_name": "ds108",
   "language": "python",
   "name": "python3"
  },
  "language_info": {
   "codemirror_mode": {
    "name": "ipython",
    "version": 3
   },
   "file_extension": ".py",
   "mimetype": "text/x-python",
   "name": "python",
   "nbconvert_exporter": "python",
   "pygments_lexer": "ipython3",
   "version": "3.10.16"
  }
 },
 "nbformat": 4,
 "nbformat_minor": 5
}
