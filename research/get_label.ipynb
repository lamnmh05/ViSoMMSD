{
 "cells": [
  {
   "cell_type": "code",
   "execution_count": 1,
   "id": "6b3ebc29",
   "metadata": {},
   "outputs": [],
   "source": [
    "import json\n",
    "from typing import List, Dict, Optional"
   ]
  },
  {
   "cell_type": "code",
   "execution_count": 8,
   "id": "87f3e62b",
   "metadata": {},
   "outputs": [],
   "source": [
    "def load_data(file_path: str) -> List[Dict]:\n",
    "    with open(file_path, 'r', encoding='utf-8') as f:\n",
    "        return json.load(f)\n",
    "\n",
    "def save_to_json(data, filename: str):\n",
    "    \"\"\"Lưu dữ liệu Python (list hoặc dict) ra file JSON với định dạng đẹp.\"\"\"\n",
    "    with open(filename, 'w', encoding='utf-8') as f:\n",
    "        json.dump(data, f, ensure_ascii=False, indent=2)\n",
    "\n",
    "\n",
    "def extract_labels(sample: Dict, target_modality: Optional[str] = None) -> Dict:\n",
    "    \"\"\"Extract label(s) from a sample. If target_modality is None, extract all.\"\"\"\n",
    "    result = {}\n",
    "    for modality in sample['annotations'][0]['result']:\n",
    "        from_name = modality['from_name']\n",
    "        label_value = modality['value']['choices'][0]\n",
    "\n",
    "        if target_modality is None or from_name == target_modality:\n",
    "            result[from_name if target_modality is None else 'label'] = label_value\n",
    "    return result\n",
    "\n",
    "\n",
    "def get_all_modality_label(exported_file_path: str) -> List[Dict]:\n",
    "    data = load_data(exported_file_path)\n",
    "    return [\n",
    "        {\n",
    "            **sample['data'],\n",
    "            **extract_labels(sample)\n",
    "        }\n",
    "        for sample in data\n",
    "    ]\n",
    "\n",
    "\n",
    "def get_text_modality_label(exported_file_path: str) -> List[Dict]:\n",
    "    data = load_data(exported_file_path)\n",
    "    return [\n",
    "        {\n",
    "            'caption': sample['data']['caption'],\n",
    "            **extract_labels(sample, target_modality='text_modality')\n",
    "        }\n",
    "        for sample in data\n",
    "    ]\n",
    "\n",
    "\n",
    "def get_image_modality_label(exported_file_path: str) -> List[Dict]:\n",
    "    data = load_data(exported_file_path)\n",
    "    return [\n",
    "        {\n",
    "            'image_url': sample['data']['image'],\n",
    "            **extract_labels(sample, target_modality='image_modality')\n",
    "        }\n",
    "        for sample in data\n",
    "    ]\n",
    "\n",
    "def get_multi_modality_label(exported_file_path: str) -> List[Dict]:\n",
    "    data = load_data(exported_file_path)\n",
    "    return [\n",
    "        {\n",
    "            'caption': sample['data']['caption'],\n",
    "            'image_url': sample['data']['image'],\n",
    "            **extract_labels(sample, target_modality='multi_modality')\n",
    "        }\n",
    "        for sample in data\n",
    "    ]\n",
    "\n"
   ]
  },
  {
   "cell_type": "code",
   "execution_count": 22,
   "id": "b7d9c2c8",
   "metadata": {},
   "outputs": [],
   "source": [
    "file_path = r'D:\\Git_repo\\ViSoMMSD\\data\\interim\\round_2\\export\\round_2.json'"
   ]
  },
  {
   "cell_type": "code",
   "execution_count": 23,
   "id": "fbde3101",
   "metadata": {},
   "outputs": [],
   "source": [
    "all = get_all_modality_label(file_path)\n",
    "img = get_image_modality_label(file_path)\n",
    "text = get_text_modality_label(file_path)\n",
    "multi = get_multi_modality_label(file_path)"
   ]
  },
  {
   "cell_type": "code",
   "execution_count": 26,
   "id": "237d960a",
   "metadata": {},
   "outputs": [
    {
     "name": "stdout",
     "output_type": "stream",
     "text": [
      "200\n",
      "200\n",
      "200\n",
      "200\n"
     ]
    }
   ],
   "source": [
    "print(len(all))\n",
    "print(len(img))\n",
    "print(len(text))\n",
    "print(len(multi))"
   ]
  },
  {
   "cell_type": "code",
   "execution_count": 33,
   "id": "3bd8904d",
   "metadata": {},
   "outputs": [],
   "source": [
    "output_path = r'D:\\Git_repo\\ViSoMMSD\\data\\interim\\round_2\\label'"
   ]
  },
  {
   "cell_type": "code",
   "execution_count": 34,
   "id": "dde5b5b5",
   "metadata": {},
   "outputs": [],
   "source": [
    "save_to_json(all, output_path + r'\\all.json')\n",
    "save_to_json(text, output_path + r'\\text.json')\n",
    "save_to_json(img, output_path + r'\\img.json')\n",
    "save_to_json(multi, output_path + r'\\multi.json')"
   ]
  }
 ],
 "metadata": {
  "kernelspec": {
   "display_name": "ds108",
   "language": "python",
   "name": "python3"
  },
  "language_info": {
   "codemirror_mode": {
    "name": "ipython",
    "version": 3
   },
   "file_extension": ".py",
   "mimetype": "text/x-python",
   "name": "python",
   "nbconvert_exporter": "python",
   "pygments_lexer": "ipython3",
   "version": "3.10.16"
  }
 },
 "nbformat": 4,
 "nbformat_minor": 5
}
